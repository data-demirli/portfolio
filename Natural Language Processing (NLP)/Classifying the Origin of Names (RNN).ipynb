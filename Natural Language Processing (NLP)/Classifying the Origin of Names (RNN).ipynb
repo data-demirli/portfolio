{
  "nbformat": 4,
  "nbformat_minor": 0,
  "metadata": {
    "colab": {
      "provenance": []
    },
    "kernelspec": {
      "name": "python3",
      "display_name": "Python 3"
    },
    "accelerator": "GPU"
  },
  "cells": [
    {
      "cell_type": "markdown",
      "source": [
        "# Natural Language Processing (NLP) - Recurrent Neural Network (RNN)\n",
        "\n",
        "## Summary:\n",
        "**Dataset:** Names and their corresponding origins  \n",
        "**Model:** Classifies the origin of names using a character-level RNN    \n",
        "**Particulars:** Words and characters tokenization, neural-network with embedding layer and recurrent layers, softmax output  \n",
        "\n",
        "## Table of Contents:\n",
        "* Section 1 - Exploring Data and Restructuring\n",
        "* Section 2 - Pre-processing the Inputs (Names)\n",
        "* Section 3 - Pre-processing the Labels (Origins)\n",
        "* Section 4 - Generating Model and Training\n",
        "* Section 5 - Final Model and Results\n",
        "* Section 6 - Function to Use the Final Model"
      ],
      "metadata": {
        "id": "4q-PpCoeUZpl"
      }
    },
    {
      "cell_type": "code",
      "source": [
        "import random\n",
        "import numpy as np\n",
        "import matplotlib.pyplot as plt\n",
        "import tensorflow as tf\n",
        "\n",
        "from glob import glob\n",
        "from sklearn.model_selection import train_test_split\n",
        "from tensorflow.keras import backend as K\n",
        "from tensorflow.keras.utils import to_categorical\n",
        "from tensorflow.keras.preprocessing.text import Tokenizer\n",
        "from tensorflow.keras.preprocessing.sequence import pad_sequences\n",
        "from tensorflow.keras.models import Sequential\n",
        "from tensorflow.keras.layers import Input, Dense, Dropout, Embedding, LSTM, GRU, SimpleRNN\n",
        "\n",
        "from IPython.core.interactiveshell import InteractiveShell\n",
        "InteractiveShell.ast_node_interactivity = \"all\""
      ],
      "metadata": {
        "id": "9ahw9YqNTwoV"
      },
      "execution_count": 1,
      "outputs": []
    },
    {
      "cell_type": "code",
      "metadata": {
        "id": "7Xq18_khFcsK",
        "colab": {
          "base_uri": "https://localhost:8080/"
        },
        "outputId": "7a0aed96-dc9d-4259-de75-2e5f5ae5a507"
      },
      "source": [
        "# Importing data:  collection of text files containing names of a specific origin\n",
        "\n",
        "t = !ls data.zip\n",
        "if(t[0]!=\"data.zip\"):\n",
        "  !wget https://download.pytorch.org/tutorial/data.zip\n",
        "  !unzip data.zip"
      ],
      "execution_count": 2,
      "outputs": [
        {
          "output_type": "stream",
          "name": "stdout",
          "text": [
            "--2023-02-28 23:39:24--  https://download.pytorch.org/tutorial/data.zip\n",
            "Resolving download.pytorch.org (download.pytorch.org)... 13.227.219.81, 13.227.219.79, 13.227.219.108, ...\n",
            "Connecting to download.pytorch.org (download.pytorch.org)|13.227.219.81|:443... connected.\n",
            "HTTP request sent, awaiting response... 200 OK\n",
            "Length: 2882130 (2.7M) [application/zip]\n",
            "Saving to: ‘data.zip’\n",
            "\n",
            "data.zip            100%[===================>]   2.75M  --.-KB/s    in 0.03s   \n",
            "\n",
            "2023-02-28 23:39:24 (84.4 MB/s) - ‘data.zip’ saved [2882130/2882130]\n",
            "\n",
            "Archive:  data.zip\n",
            "   creating: data/\n",
            "  inflating: data/eng-fra.txt        \n",
            "   creating: data/names/\n",
            "  inflating: data/names/Arabic.txt   \n",
            "  inflating: data/names/Chinese.txt  \n",
            "  inflating: data/names/Czech.txt    \n",
            "  inflating: data/names/Dutch.txt    \n",
            "  inflating: data/names/English.txt  \n",
            "  inflating: data/names/French.txt   \n",
            "  inflating: data/names/German.txt   \n",
            "  inflating: data/names/Greek.txt    \n",
            "  inflating: data/names/Irish.txt    \n",
            "  inflating: data/names/Italian.txt  \n",
            "  inflating: data/names/Japanese.txt  \n",
            "  inflating: data/names/Korean.txt   \n",
            "  inflating: data/names/Polish.txt   \n",
            "  inflating: data/names/Portuguese.txt  \n",
            "  inflating: data/names/Russian.txt  \n",
            "  inflating: data/names/Scottish.txt  \n",
            "  inflating: data/names/Spanish.txt  \n",
            "  inflating: data/names/Vietnamese.txt  \n"
          ]
        }
      ]
    },
    {
      "cell_type": "markdown",
      "metadata": {
        "id": "DEWnNXzcbSn9"
      },
      "source": [
        "# Section 1 - Exploring Data and Restructuring"
      ]
    },
    {
      "cell_type": "code",
      "source": [
        "open('data/names/Korean.txt').readlines(20)"
      ],
      "metadata": {
        "colab": {
          "base_uri": "https://localhost:8080/"
        },
        "id": "FVUShP9rSS2f",
        "outputId": "bf3bdf42-9db0-4f28-9851-eadf954d10b2"
      },
      "execution_count": 3,
      "outputs": [
        {
          "output_type": "execute_result",
          "data": {
            "text/plain": [
              "['Ahn\\n', 'Baik\\n', 'Bang\\n', 'Byon\\n', 'Cha\\n']"
            ]
          },
          "metadata": {},
          "execution_count": 3
        }
      ]
    },
    {
      "cell_type": "code",
      "metadata": {
        "id": "dIWLuUg0FddK",
        "colab": {
          "base_uri": "https://localhost:8080/"
        },
        "outputId": "76dc392e-d79b-47ee-c3be-59e7c7fe814f"
      },
      "source": [
        "# Creates a list of the names and a list of their origins\n",
        "# Loops take the name from inside file contents and the origin from .txt filename\n",
        "\n",
        "data = []\n",
        "for filename in glob('data/names/*.txt'):\n",
        "\n",
        "  origin = filename.split('/')[-1].split('.txt')[0]\n",
        "  names = open(filename).readlines()\n",
        "  print(origin, \"no. of names:\", len(names))\n",
        "\n",
        "  for name in names:\n",
        "    data.append((name.strip(), origin))\n",
        "\n",
        "names, origins = zip(*data)"
      ],
      "execution_count": 4,
      "outputs": [
        {
          "output_type": "stream",
          "name": "stdout",
          "text": [
            "Russian no. of names: 9408\n",
            "Vietnamese no. of names: 73\n",
            "Polish no. of names: 139\n",
            "Scottish no. of names: 100\n",
            "Arabic no. of names: 2000\n",
            "Greek no. of names: 203\n",
            "Portuguese no. of names: 74\n",
            "Dutch no. of names: 297\n",
            "Czech no. of names: 519\n",
            "Korean no. of names: 94\n",
            "English no. of names: 3668\n",
            "German no. of names: 724\n",
            "Spanish no. of names: 298\n",
            "Chinese no. of names: 268\n",
            "French no. of names: 277\n",
            "Irish no. of names: 232\n",
            "Italian no. of names: 709\n",
            "Japanese no. of names: 991\n"
          ]
        }
      ]
    },
    {
      "cell_type": "code",
      "metadata": {
        "id": "OaPRdXKlFfCY",
        "colab": {
          "base_uri": "https://localhost:8080/"
        },
        "outputId": "71efd61c-8461-45d3-bfba-35fc837bd591"
      },
      "source": [
        "# Exploration of the lists created\n",
        "\n",
        "print(data[:5])\n",
        "print(names[:5])\n",
        "print(origins[:5])\n",
        "print('\\n')\n",
        "\n",
        "origins_list = list(set(origins))\n",
        "print(origins_list)\n",
        "print('\\n')\n",
        "\n",
        "print(\"Names list length:\", len(data))\n",
        "print(\"Origins set length:\", len(origins_list))"
      ],
      "execution_count": 5,
      "outputs": [
        {
          "output_type": "stream",
          "name": "stdout",
          "text": [
            "[('Ababko', 'Russian'), ('Abaev', 'Russian'), ('Abagyan', 'Russian'), ('Abaidulin', 'Russian'), ('Abaidullin', 'Russian')]\n",
            "('Ababko', 'Abaev', 'Abagyan', 'Abaidulin', 'Abaidullin')\n",
            "('Russian', 'Russian', 'Russian', 'Russian', 'Russian')\n",
            "\n",
            "\n",
            "['French', 'Polish', 'Irish', 'Dutch', 'Greek', 'English', 'Arabic', 'Spanish', 'Portuguese', 'German', 'Czech', 'Italian', 'Japanese', 'Scottish', 'Vietnamese', 'Russian', 'Chinese', 'Korean']\n",
            "\n",
            "\n",
            "Names list length: 20074\n",
            "Origins set length: 18\n"
          ]
        }
      ]
    },
    {
      "cell_type": "markdown",
      "source": [
        "# Section 2 - Pre-processing the Inputs (Names)"
      ],
      "metadata": {
        "id": "PVcdr5rdF_9w"
      }
    },
    {
      "cell_type": "code",
      "source": [
        "# Tokenizing all the characters from the list of names\n",
        "# and ordering them into a sequence to represent the names as vectors\n",
        "\n",
        "tokenizer_names = Tokenizer(char_level=True)\n",
        "tokenizer_names.fit_on_texts(names)\n",
        "tokenizer_names.word_index\n",
        "print('\\n')\n",
        "print(\"Length of tokens list:\", len(tokenizer_names.word_index))\n",
        "\n",
        "sequenced_names = tokenizer_names.texts_to_sequences(names)\n",
        "\n",
        "#Checking that the sequencing was done properly\n",
        "print('\\n')\n",
        "sequenced_names[:5]\n",
        "print('\\n')\n",
        "names[:5]"
      ],
      "metadata": {
        "colab": {
          "base_uri": "https://localhost:8080/"
        },
        "id": "Z5jxmeMRAxK_",
        "outputId": "cd6f10c4-35d2-41eb-dd43-3774afa20400"
      },
      "execution_count": 6,
      "outputs": [
        {
          "output_type": "execute_result",
          "data": {
            "text/plain": [
              "{'a': 1,\n",
              " 'o': 2,\n",
              " 'e': 3,\n",
              " 'i': 4,\n",
              " 'n': 5,\n",
              " 'r': 6,\n",
              " 's': 7,\n",
              " 'h': 8,\n",
              " 'k': 9,\n",
              " 'l': 10,\n",
              " 'v': 11,\n",
              " 't': 12,\n",
              " 'u': 13,\n",
              " 'm': 14,\n",
              " 'd': 15,\n",
              " 'b': 16,\n",
              " 'y': 17,\n",
              " 'g': 18,\n",
              " 'c': 19,\n",
              " 'z': 20,\n",
              " 'f': 21,\n",
              " 'p': 22,\n",
              " 'j': 23,\n",
              " 'w': 24,\n",
              " ' ': 25,\n",
              " 'q': 26,\n",
              " \"'\": 27,\n",
              " 'x': 28,\n",
              " '-': 29,\n",
              " 'ö': 30,\n",
              " 'é': 31,\n",
              " 'í': 32,\n",
              " 'ó': 33,\n",
              " 'á': 34,\n",
              " 'ä': 35,\n",
              " 'ü': 36,\n",
              " 'à': 37,\n",
              " 'ß': 38,\n",
              " 'ú': 39,\n",
              " 'ñ': 40,\n",
              " ',': 41,\n",
              " 'ś': 42,\n",
              " '1': 43,\n",
              " 'ò': 44,\n",
              " 'ż': 45,\n",
              " 'ã': 46,\n",
              " 'è': 47,\n",
              " '\\xa0': 48,\n",
              " 'ń': 49,\n",
              " 'ł': 50,\n",
              " 'ą': 51,\n",
              " 'õ': 52,\n",
              " '/': 53,\n",
              " ':': 54,\n",
              " 'ê': 55,\n",
              " 'ç': 56,\n",
              " 'ù': 57,\n",
              " 'ì': 58}"
            ]
          },
          "metadata": {},
          "execution_count": 6
        },
        {
          "output_type": "stream",
          "name": "stdout",
          "text": [
            "\n",
            "\n",
            "Length of tokens list: 58\n",
            "\n",
            "\n"
          ]
        },
        {
          "output_type": "execute_result",
          "data": {
            "text/plain": [
              "[[1, 16, 1, 16, 9, 2],\n",
              " [1, 16, 1, 3, 11],\n",
              " [1, 16, 1, 18, 17, 1, 5],\n",
              " [1, 16, 1, 4, 15, 13, 10, 4, 5],\n",
              " [1, 16, 1, 4, 15, 13, 10, 10, 4, 5]]"
            ]
          },
          "metadata": {},
          "execution_count": 6
        },
        {
          "output_type": "stream",
          "name": "stdout",
          "text": [
            "\n",
            "\n"
          ]
        },
        {
          "output_type": "execute_result",
          "data": {
            "text/plain": [
              "('Ababko', 'Abaev', 'Abagyan', 'Abaidulin', 'Abaidullin')"
            ]
          },
          "metadata": {},
          "execution_count": 6
        }
      ]
    },
    {
      "cell_type": "code",
      "source": [
        "#Padding name vectors with 0's on the front end in order to generate vectors of equal length\n",
        "\n",
        "name_lengths = []\n",
        "for i in (sequenced_names):\n",
        "  name_lengths.append(len(i))\n",
        "\n",
        "max_length = max(name_lengths)\n",
        "print(max_length, '\\n')\n",
        "\n",
        "x = np.array(pad_sequences(sequenced_names, maxlen=max_length))\n",
        "\n",
        "print('\\n')\n",
        "x[0:3]"
      ],
      "metadata": {
        "colab": {
          "base_uri": "https://localhost:8080/"
        },
        "id": "xNrN7VwBjx_i",
        "outputId": "02927dac-ba7d-4855-84cc-8172a53146d1"
      },
      "execution_count": 7,
      "outputs": [
        {
          "output_type": "stream",
          "name": "stdout",
          "text": [
            "20 \n",
            "\n",
            "\n",
            "\n"
          ]
        },
        {
          "output_type": "execute_result",
          "data": {
            "text/plain": [
              "array([[ 0,  0,  0,  0,  0,  0,  0,  0,  0,  0,  0,  0,  0,  0,  1, 16,\n",
              "         1, 16,  9,  2],\n",
              "       [ 0,  0,  0,  0,  0,  0,  0,  0,  0,  0,  0,  0,  0,  0,  0,  1,\n",
              "        16,  1,  3, 11],\n",
              "       [ 0,  0,  0,  0,  0,  0,  0,  0,  0,  0,  0,  0,  0,  1, 16,  1,\n",
              "        18, 17,  1,  5]], dtype=int32)"
            ]
          },
          "metadata": {},
          "execution_count": 7
        }
      ]
    },
    {
      "cell_type": "markdown",
      "source": [
        "# Section 3 - Pre-processing the Labels (Origins)"
      ],
      "metadata": {
        "id": "qnM6BbiWF4sW"
      }
    },
    {
      "cell_type": "code",
      "source": [
        "# Tokenizing each of the 18 origin values and converting them to one-hot encoded vectors\n",
        "\n",
        "tokenizer_origins = Tokenizer()\n",
        "tokenizer_origins.fit_on_texts(origins)\n",
        "tokenizer_origins.word_index\n",
        "\n",
        "indexed_origins = tokenizer_origins.texts_to_sequences(origins)\n",
        "\n",
        "# Converting the list indeces into one-hot encoded vectors\n",
        "y = to_categorical(list(np.array(indexed_origins)-1), num_classes=18)\n",
        "\n",
        "print('\\n')\n",
        "indexed_origins[:2]+indexed_origins[-2:]\n",
        "print('\\n')\n",
        "origins[:2]+origins[-2:]\n",
        "print('\\n')\n",
        "y[:2]\n",
        "print('\\n')\n",
        "y[-2:]"
      ],
      "metadata": {
        "colab": {
          "base_uri": "https://localhost:8080/"
        },
        "id": "ACsKOatmAQ0l",
        "outputId": "a35fe91a-a05a-42c8-eace-abf8a62bff8a"
      },
      "execution_count": 8,
      "outputs": [
        {
          "output_type": "execute_result",
          "data": {
            "text/plain": [
              "{'russian': 1,\n",
              " 'english': 2,\n",
              " 'arabic': 3,\n",
              " 'japanese': 4,\n",
              " 'german': 5,\n",
              " 'italian': 6,\n",
              " 'czech': 7,\n",
              " 'spanish': 8,\n",
              " 'dutch': 9,\n",
              " 'french': 10,\n",
              " 'chinese': 11,\n",
              " 'irish': 12,\n",
              " 'greek': 13,\n",
              " 'polish': 14,\n",
              " 'scottish': 15,\n",
              " 'korean': 16,\n",
              " 'portuguese': 17,\n",
              " 'vietnamese': 18}"
            ]
          },
          "metadata": {},
          "execution_count": 8
        },
        {
          "output_type": "stream",
          "name": "stdout",
          "text": [
            "\n",
            "\n"
          ]
        },
        {
          "output_type": "execute_result",
          "data": {
            "text/plain": [
              "[[1], [1], [4], [4]]"
            ]
          },
          "metadata": {},
          "execution_count": 8
        },
        {
          "output_type": "stream",
          "name": "stdout",
          "text": [
            "\n",
            "\n"
          ]
        },
        {
          "output_type": "execute_result",
          "data": {
            "text/plain": [
              "('Russian', 'Russian', 'Japanese', 'Japanese')"
            ]
          },
          "metadata": {},
          "execution_count": 8
        },
        {
          "output_type": "stream",
          "name": "stdout",
          "text": [
            "\n",
            "\n"
          ]
        },
        {
          "output_type": "execute_result",
          "data": {
            "text/plain": [
              "array([[1., 0., 0., 0., 0., 0., 0., 0., 0., 0., 0., 0., 0., 0., 0., 0.,\n",
              "        0., 0.],\n",
              "       [1., 0., 0., 0., 0., 0., 0., 0., 0., 0., 0., 0., 0., 0., 0., 0.,\n",
              "        0., 0.]], dtype=float32)"
            ]
          },
          "metadata": {},
          "execution_count": 8
        },
        {
          "output_type": "stream",
          "name": "stdout",
          "text": [
            "\n",
            "\n"
          ]
        },
        {
          "output_type": "execute_result",
          "data": {
            "text/plain": [
              "array([[0., 0., 0., 1., 0., 0., 0., 0., 0., 0., 0., 0., 0., 0., 0., 0.,\n",
              "        0., 0.],\n",
              "       [0., 0., 0., 1., 0., 0., 0., 0., 0., 0., 0., 0., 0., 0., 0., 0.,\n",
              "        0., 0.]], dtype=float32)"
            ]
          },
          "metadata": {},
          "execution_count": 8
        }
      ]
    },
    {
      "cell_type": "markdown",
      "source": [
        "# Section 4 - Generating Model and Training"
      ],
      "metadata": {
        "id": "BLybc61jN0Ad"
      }
    },
    {
      "cell_type": "code",
      "source": [
        "# Splitting data into training, validation, and test sets\n",
        "x_train_val, x_test, y_train_val, y_test = train_test_split(x, y, test_size=0.20, shuffle=True, stratify=y, random_state=1)\n",
        "x_train, x_val, y_train, y_val = train_test_split(x_train_val, y_train_val, test_size=0.20, shuffle=True, stratify=y_train_val, random_state=1)"
      ],
      "metadata": {
        "id": "fuYROu1uNOMu"
      },
      "execution_count": 9,
      "outputs": []
    },
    {
      "cell_type": "code",
      "source": [
        "# Building a Fully Connected Neural Network Model\n",
        "# NN contains an embedding layer, two recurrent layers, two dense layers\n",
        "# with a softmax to output the probability predicted for each origin\n",
        "\n",
        "def Name_Origin_Model(X, y, validation_data=None, epoch_number=15):\n",
        "  K.clear_session()\n",
        "  tf.random.set_seed(0)\n",
        "  random.seed(0)\n",
        "\n",
        "  #Embedding output will be of dimension 100\n",
        "  model = Sequential()\n",
        "  model.add(Embedding(len(tokenizer_names.word_index)+1, 100, input_length=max_length))\n",
        "  model.add(GRU(150, return_sequences = True))\n",
        "  model.add(GRU(150))\n",
        "  model.add(Dense(150, activation='relu'))\n",
        "  model.add(Dense(len(tokenizer_origins.word_index), activation='softmax'))\n",
        "\n",
        "  model.compile(loss=\"binary_crossentropy\", optimizer=\"adam\", metrics=['accuracy'])\n",
        "\n",
        "  h = model.fit(X, y, epochs = epoch_number, validation_data=(x_val, y_val))\n",
        "\n",
        "  return model, h\n",
        "  \n",
        "model, h = Name_Origin_Model(x_train, y_train, validation_data=(x_val, y_val))"
      ],
      "metadata": {
        "colab": {
          "base_uri": "https://localhost:8080/"
        },
        "id": "03l4Efy9OJi8",
        "outputId": "edf61831-df98-41fe-de97-f0faae4e545d"
      },
      "execution_count": 10,
      "outputs": [
        {
          "output_type": "stream",
          "name": "stdout",
          "text": [
            "Epoch 1/15\n",
            "402/402 [==============================] - 16s 15ms/step - loss: 0.1520 - accuracy: 0.4923 - val_loss: 0.1168 - val_accuracy: 0.5492\n",
            "Epoch 2/15\n",
            "402/402 [==============================] - 4s 9ms/step - loss: 0.1085 - accuracy: 0.6013 - val_loss: 0.0957 - val_accuracy: 0.6684\n",
            "Epoch 3/15\n",
            "402/402 [==============================] - 4s 10ms/step - loss: 0.0881 - accuracy: 0.6900 - val_loss: 0.0804 - val_accuracy: 0.7235\n",
            "Epoch 4/15\n",
            "402/402 [==============================] - 4s 9ms/step - loss: 0.0740 - accuracy: 0.7452 - val_loss: 0.0699 - val_accuracy: 0.7659\n",
            "Epoch 5/15\n",
            "402/402 [==============================] - 3s 8ms/step - loss: 0.0648 - accuracy: 0.7773 - val_loss: 0.0647 - val_accuracy: 0.7786\n",
            "Epoch 6/15\n",
            "402/402 [==============================] - 3s 9ms/step - loss: 0.0580 - accuracy: 0.8010 - val_loss: 0.0632 - val_accuracy: 0.7796\n",
            "Epoch 7/15\n",
            "402/402 [==============================] - 4s 10ms/step - loss: 0.0514 - accuracy: 0.8221 - val_loss: 0.0571 - val_accuracy: 0.8088\n",
            "Epoch 8/15\n",
            "402/402 [==============================] - 4s 9ms/step - loss: 0.0457 - accuracy: 0.8425 - val_loss: 0.0552 - val_accuracy: 0.8154\n",
            "Epoch 9/15\n",
            "402/402 [==============================] - 3s 8ms/step - loss: 0.0402 - accuracy: 0.8657 - val_loss: 0.0539 - val_accuracy: 0.8179\n",
            "Epoch 10/15\n",
            "402/402 [==============================] - 4s 10ms/step - loss: 0.0349 - accuracy: 0.8809 - val_loss: 0.0563 - val_accuracy: 0.8101\n",
            "Epoch 11/15\n",
            "402/402 [==============================] - 4s 9ms/step - loss: 0.0303 - accuracy: 0.8983 - val_loss: 0.0562 - val_accuracy: 0.8263\n",
            "Epoch 12/15\n",
            "402/402 [==============================] - 4s 9ms/step - loss: 0.0257 - accuracy: 0.9155 - val_loss: 0.0571 - val_accuracy: 0.8241\n",
            "Epoch 13/15\n",
            "402/402 [==============================] - 4s 9ms/step - loss: 0.0220 - accuracy: 0.9296 - val_loss: 0.0600 - val_accuracy: 0.8229\n",
            "Epoch 14/15\n",
            "402/402 [==============================] - 4s 10ms/step - loss: 0.0188 - accuracy: 0.9417 - val_loss: 0.0641 - val_accuracy: 0.8219\n",
            "Epoch 15/15\n",
            "402/402 [==============================] - 4s 9ms/step - loss: 0.0160 - accuracy: 0.9518 - val_loss: 0.0690 - val_accuracy: 0.8219\n"
          ]
        }
      ]
    },
    {
      "cell_type": "code",
      "source": [
        "fig, ax = plt.subplots(1, 2, figsize=(30, 10))\n",
        "\n",
        "_ = ax[0].plot(h.history['loss'], label = 'Training Set Loss')\n",
        "_ = ax[0].plot(h.history['val_loss'], label = 'Valdidation Set Loss')\n",
        "_ = ax[0].set_xlabel('Epoch')\n",
        "_ = ax[0].set_title('Objective Function Loss Graph')\n",
        "_ = ax[0].legend()\n",
        "\n",
        "_ = ax[1].plot(h.history['accuracy'], label = 'Training Set Accuracy')\n",
        "_ = ax[1].plot(h.history['val_accuracy'], label = 'Validation Set Accuracy')\n",
        "_ = ax[1].set_xlabel('Epoch')\n",
        "_ = ax[1].set_title('Accuracy Graph')\n",
        "_ = ax[1].legend()\n",
        "    \n",
        "plt.show()"
      ],
      "metadata": {
        "colab": {
          "base_uri": "https://localhost:8080/",
          "height": 455
        },
        "id": "kRhsl1ivV-9E",
        "outputId": "f95bb4d6-7060-4647-950e-71f161af752a"
      },
      "execution_count": 11,
      "outputs": [
        {
          "output_type": "display_data",
          "data": {
            "text/plain": [
              "<Figure size 2160x720 with 2 Axes>"
            ],
            "image/png": "[encoded data removed]"
          },
          "metadata": {
            "needs_background": "light"
          }
        }
      ]
    },
    {
      "cell_type": "markdown",
      "source": [
        "# Section 5 - Final Model and Results"
      ],
      "metadata": {
        "id": "HSYbSnBeFr7W"
      }
    },
    {
      "cell_type": "code",
      "source": [
        "# Training the final model using test + validation sets and using the optimum epoch (hyperparameter) resulting from the previous best validation score\n",
        "\n",
        "val_losses = np.array(h.history['val_loss'])\n",
        "best_epoch = np.argmin(val_losses) + 1\n",
        "print('Optimum epoch runs:', best_epoch)\n",
        "\n",
        "model_final, h_final = Name_Origin_Model(x_train_val, y_train_val, epoch_number=best_epoch)"
      ],
      "metadata": {
        "colab": {
          "base_uri": "https://localhost:8080/"
        },
        "id": "WGf2xNGrNi3k",
        "outputId": "26e6095a-465f-4438-df7c-f8e4c526ff53"
      },
      "execution_count": 12,
      "outputs": [
        {
          "output_type": "stream",
          "name": "stdout",
          "text": [
            "Optimum epoch runs: 9\n",
            "Epoch 1/9\n",
            "502/502 [==============================] - 12s 12ms/step - loss: 0.1428 - accuracy: 0.5059 - val_loss: 0.1113 - val_accuracy: 0.6077\n",
            "Epoch 2/9\n",
            "502/502 [==============================] - 5s 9ms/step - loss: 0.0958 - accuracy: 0.6577 - val_loss: 0.0844 - val_accuracy: 0.7021\n",
            "Epoch 3/9\n",
            "502/502 [==============================] - 5s 10ms/step - loss: 0.0777 - accuracy: 0.7279 - val_loss: 0.0693 - val_accuracy: 0.7540\n",
            "Epoch 4/9\n",
            "502/502 [==============================] - 4s 8ms/step - loss: 0.0660 - accuracy: 0.7733 - val_loss: 0.0601 - val_accuracy: 0.7858\n",
            "Epoch 5/9\n",
            "502/502 [==============================] - 5s 10ms/step - loss: 0.0569 - accuracy: 0.8036 - val_loss: 0.0518 - val_accuracy: 0.8213\n",
            "Epoch 6/9\n",
            "502/502 [==============================] - 4s 9ms/step - loss: 0.0501 - accuracy: 0.8251 - val_loss: 0.0446 - val_accuracy: 0.8512\n",
            "Epoch 7/9\n",
            "502/502 [==============================] - 4s 9ms/step - loss: 0.0444 - accuracy: 0.8481 - val_loss: 0.0403 - val_accuracy: 0.8633\n",
            "Epoch 8/9\n",
            "502/502 [==============================] - 5s 10ms/step - loss: 0.0392 - accuracy: 0.8655 - val_loss: 0.0340 - val_accuracy: 0.8808\n",
            "Epoch 9/9\n",
            "502/502 [==============================] - 4s 8ms/step - loss: 0.0347 - accuracy: 0.8803 - val_loss: 0.0291 - val_accuracy: 0.9035\n"
          ]
        }
      ]
    },
    {
      "cell_type": "code",
      "source": [
        "# Evaluation of the final model using the test set\n",
        "test_loss, test_accuracy = model_final.evaluate(x_test, y_test)\n",
        "\n",
        "print('\\n')\n",
        "print('********The Accuracy on the test set is: %s********' % round(test_accuracy, 4))"
      ],
      "metadata": {
        "colab": {
          "base_uri": "https://localhost:8080/"
        },
        "id": "8zF4GzV_Wcr7",
        "outputId": "f7c97798-d5dd-4fb9-83f0-71a08d19b3de"
      },
      "execution_count": 13,
      "outputs": [
        {
          "output_type": "stream",
          "name": "stdout",
          "text": [
            "126/126 [==============================] - 1s 5ms/step - loss: 0.0536 - accuracy: 0.8204\n",
            "\n",
            "\n",
            "********The Accuracy on the test set is: 0.8204********\n"
          ]
        }
      ]
    },
    {
      "cell_type": "markdown",
      "source": [
        "# Section 6 - Function to Use the Final Model"
      ],
      "metadata": {
        "id": "ChgY0MOOGONb"
      }
    },
    {
      "cell_type": "code",
      "metadata": {
        "id": "BWnm8nvuFgTF"
      },
      "source": [
        "# Function that takes in a name and outputs the predicted origin\n",
        "  # Converts input into padded sequences of tokens\n",
        "  # Converts outputed softmax into the highest probability origins value\n",
        "\n",
        "swap_origin_index = dict([(index, origin) for (origin, index) in tokenizer_origins.word_index.items()])\n",
        "\n",
        "def predict_origin(name):\n",
        "  assert isinstance(name, str)\n",
        "  sequenced_name = tokenizer_names.texts_to_sequences([name])\n",
        "  x_name = np.array(pad_sequences(sequenced_name, maxlen=max_length))\n",
        "  y_output = model_final.predict(x_name)\n",
        "  y_origin = swap_origin_index[np.argmax(y_output)+1]\n",
        "  return y_origin"
      ],
      "execution_count": 14,
      "outputs": []
    },
    {
      "cell_type": "code",
      "source": [
        "print('James', ' origin:', predict_origin('James'), '\\n')\n",
        "print('Evva', ' origin:', predict_origin('Evva'), '\\n')"
      ],
      "metadata": {
        "colab": {
          "base_uri": "https://localhost:8080/"
        },
        "id": "XDGA_qymbscX",
        "outputId": "5b15b6dc-87d6-4a8e-bb2d-f98bb0a3a67c"
      },
      "execution_count": 15,
      "outputs": [
        {
          "output_type": "stream",
          "name": "stdout",
          "text": [
            "1/1 [==============================] - 1s 1s/step\n",
            "James  origin: english \n",
            "\n",
            "1/1 [==============================] - 0s 27ms/step\n",
            "Evva  origin: russian \n",
            "\n"
          ]
        }
      ]
    }
  ]
}